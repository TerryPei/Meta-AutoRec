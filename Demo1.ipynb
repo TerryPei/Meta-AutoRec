{
 "cells": [
  {
   "cell_type": "markdown",
   "metadata": {},
   "source": [
    "# AutoRec for Cognitive Classification enhanced by First-order MAML"
   ]
  },
  {
   "cell_type": "markdown",
   "metadata": {},
   "source": [
    "### by Xiaohuan Pei"
   ]
  },
  {
   "cell_type": "markdown",
   "metadata": {},
   "source": [
    "## Data set"
   ]
  },
  {
   "cell_type": "code",
   "execution_count": 18,
   "metadata": {},
   "outputs": [],
   "source": [
    "import numpy as np\n",
    "import pandas as pd\n",
    "import torch\n",
    "import torch.nn as nn\n",
    "import random\n",
    "import torch.utils.data as Data\n",
    "import matplotlib.pyplot as plt\n",
    "import seaborn as sns\n",
    "from sklearn.preprocessing import LabelEncoder\n",
    "from copy import deepcopy\n",
    "%matplotlib inline\n",
    "import progressbar\n",
    "import math\n",
    "from sklearn.metrics import accuracy_score, precision_score, recall_score, f1_score, roc_auc_score\n",
    "from sklearn.model_selection import StratifiedKFold\n",
    "from sklearn import metrics"
   ]
  },
  {
   "cell_type": "markdown",
   "metadata": {},
   "source": [
    "## show data set"
   ]
  },
  {
   "cell_type": "code",
   "execution_count": 19,
   "metadata": {},
   "outputs": [],
   "source": [
    "def load_scores_data(file_path, ratio):\n",
    "    student_index = 0\n",
    "    score_matrix = []\n",
    "    data = [] \n",
    "    f = open(file_path)\n",
    "    for line in f.readlines():\n",
    "        scores = line.split()\n",
    "        scores = [int(i) for i in scores]\n",
    "        score_matrix.append(scores)\n",
    "        item_index = 0\n",
    "        for score in scores:\n",
    "            data.append([student_index, item_index, score])\n",
    "            item_index += 1\n",
    "        student_index += 1\n",
    "    f.close()\n",
    "    student_num = student_index\n",
    "    item_num = item_index\n",
    "    np.random.shuffle(data)\n",
    "    train_data = data[ : int(len(data) * ratio)]\n",
    "    test_data = data[int(len(data) * ratio) : ]\n",
    "    return train_data, test_data "
   ]
  },
  {
   "cell_type": "code",
   "execution_count": 20,
   "metadata": {},
   "outputs": [
    {
     "data": {
      "text/html": [
       "<div>\n",
       "<style scoped>\n",
       "    .dataframe tbody tr th:only-of-type {\n",
       "        vertical-align: middle;\n",
       "    }\n",
       "\n",
       "    .dataframe tbody tr th {\n",
       "        vertical-align: top;\n",
       "    }\n",
       "\n",
       "    .dataframe thead th {\n",
       "        text-align: right;\n",
       "    }\n",
       "</style>\n",
       "<table border=\"1\" class=\"dataframe\">\n",
       "  <thead>\n",
       "    <tr style=\"text-align: right;\">\n",
       "      <th></th>\n",
       "      <th>student id</th>\n",
       "      <th>item id</th>\n",
       "      <th>score</th>\n",
       "    </tr>\n",
       "  </thead>\n",
       "  <tbody>\n",
       "    <tr>\n",
       "      <th>0</th>\n",
       "      <td>446</td>\n",
       "      <td>16</td>\n",
       "      <td>0</td>\n",
       "    </tr>\n",
       "    <tr>\n",
       "      <th>1</th>\n",
       "      <td>161</td>\n",
       "      <td>3</td>\n",
       "      <td>1</td>\n",
       "    </tr>\n",
       "    <tr>\n",
       "      <th>2</th>\n",
       "      <td>441</td>\n",
       "      <td>12</td>\n",
       "      <td>0</td>\n",
       "    </tr>\n",
       "    <tr>\n",
       "      <th>3</th>\n",
       "      <td>426</td>\n",
       "      <td>13</td>\n",
       "      <td>1</td>\n",
       "    </tr>\n",
       "    <tr>\n",
       "      <th>4</th>\n",
       "      <td>400</td>\n",
       "      <td>10</td>\n",
       "      <td>0</td>\n",
       "    </tr>\n",
       "  </tbody>\n",
       "</table>\n",
       "</div>"
      ],
      "text/plain": [
       "   student id  item id  score\n",
       "0         446       16      0\n",
       "1         161        3      1\n",
       "2         441       12      0\n",
       "3         426       13      1\n",
       "4         400       10      0"
      ]
     },
     "execution_count": 20,
     "metadata": {},
     "output_type": "execute_result"
    }
   ],
   "source": [
    "train_data, _ = load_scores_data('./FrcSub/data.txt', 0.8)\n",
    "df = pd.DataFrame(data=train_data, columns=['student id', 'item id', 'score'])\n",
    "df.head()"
   ]
  },
  {
   "cell_type": "code",
   "execution_count": 21,
   "metadata": {},
   "outputs": [
    {
     "data": {
      "text/html": [
       "<div>\n",
       "<style scoped>\n",
       "    .dataframe tbody tr th:only-of-type {\n",
       "        vertical-align: middle;\n",
       "    }\n",
       "\n",
       "    .dataframe tbody tr th {\n",
       "        vertical-align: top;\n",
       "    }\n",
       "\n",
       "    .dataframe thead th {\n",
       "        text-align: right;\n",
       "    }\n",
       "</style>\n",
       "<table border=\"1\" class=\"dataframe\">\n",
       "  <thead>\n",
       "    <tr style=\"text-align: right;\">\n",
       "      <th></th>\n",
       "      <th>student id</th>\n",
       "      <th>item id</th>\n",
       "      <th>score</th>\n",
       "    </tr>\n",
       "  </thead>\n",
       "  <tbody>\n",
       "    <tr>\n",
       "      <th>count</th>\n",
       "      <td>8576.000000</td>\n",
       "      <td>8576.000000</td>\n",
       "      <td>8576.000000</td>\n",
       "    </tr>\n",
       "    <tr>\n",
       "      <th>mean</th>\n",
       "      <td>266.374883</td>\n",
       "      <td>9.513759</td>\n",
       "      <td>0.530784</td>\n",
       "    </tr>\n",
       "    <tr>\n",
       "      <th>std</th>\n",
       "      <td>155.128072</td>\n",
       "      <td>5.765104</td>\n",
       "      <td>0.499081</td>\n",
       "    </tr>\n",
       "    <tr>\n",
       "      <th>min</th>\n",
       "      <td>0.000000</td>\n",
       "      <td>0.000000</td>\n",
       "      <td>0.000000</td>\n",
       "    </tr>\n",
       "    <tr>\n",
       "      <th>25%</th>\n",
       "      <td>132.000000</td>\n",
       "      <td>5.000000</td>\n",
       "      <td>0.000000</td>\n",
       "    </tr>\n",
       "    <tr>\n",
       "      <th>50%</th>\n",
       "      <td>266.000000</td>\n",
       "      <td>10.000000</td>\n",
       "      <td>1.000000</td>\n",
       "    </tr>\n",
       "    <tr>\n",
       "      <th>75%</th>\n",
       "      <td>400.000000</td>\n",
       "      <td>15.000000</td>\n",
       "      <td>1.000000</td>\n",
       "    </tr>\n",
       "    <tr>\n",
       "      <th>max</th>\n",
       "      <td>535.000000</td>\n",
       "      <td>19.000000</td>\n",
       "      <td>1.000000</td>\n",
       "    </tr>\n",
       "  </tbody>\n",
       "</table>\n",
       "</div>"
      ],
      "text/plain": [
       "        student id      item id        score\n",
       "count  8576.000000  8576.000000  8576.000000\n",
       "mean    266.374883     9.513759     0.530784\n",
       "std     155.128072     5.765104     0.499081\n",
       "min       0.000000     0.000000     0.000000\n",
       "25%     132.000000     5.000000     0.000000\n",
       "50%     266.000000    10.000000     1.000000\n",
       "75%     400.000000    15.000000     1.000000\n",
       "max     535.000000    19.000000     1.000000"
      ]
     },
     "execution_count": 21,
     "metadata": {},
     "output_type": "execute_result"
    }
   ],
   "source": [
    "df.describe()"
   ]
  },
  {
   "cell_type": "code",
   "execution_count": 25,
   "metadata": {},
   "outputs": [
    {
     "data": {
      "text/plain": [
       "<matplotlib.axes._subplots.AxesSubplot at 0x1a338a0050>"
      ]
     },
     "execution_count": 25,
     "metadata": {},
     "output_type": "execute_result"
    },
    {
     "data": {
      "image/png": "[encoded data removed]",
      "text/plain": [
       "<Figure size 432x288 with 2 Axes>"
      ]
     },
     "metadata": {
      "needs_background": "light"
     },
     "output_type": "display_data"
    }
   ],
   "source": [
    "le = LabelEncoder()\n",
    "datas = df.apply(le.fit_transform)\n",
    "sns.heatmap(datas.corr())"
   ]
  },
  {
   "cell_type": "markdown",
   "metadata": {},
   "source": [
    "## load data => shuffle, split, sample"
   ]
  },
  {
   "cell_type": "code",
   "execution_count": 27,
   "metadata": {},
   "outputs": [],
   "source": [
    "def load_data(file_path, train_ratio):\n",
    "    \n",
    "    datas = []\n",
    "    scores = pd.read_csv(file_path, header=None, sep='\\t').values\n",
    "    num_students, num_items, num_total_scores = scores.shape[0], scores.shape[1], scores.shape[0] * scores.shape[1]\n",
    "    \n",
    "    student_train_set = set()\n",
    "    student_test_set = set()\n",
    "    item_train_set = set()\n",
    "    item_test_set = set()\n",
    "    \n",
    "    train_scores = np.zeros(scores.shape)\n",
    "    test_scores = np.zeros(scores.shape)\n",
    "    train_mask_scores = np.zeros(scores.shape)\n",
    "    test_mask_scores = np.zeros(scores.shape)\n",
    "    \n",
    "    \n",
    "    #先把认知诊断数据集转化成推荐系统中常用的三元组形式\n",
    "    student_index = 0\n",
    "    for line in scores:\n",
    "        item_index = 0\n",
    "        for score in line:\n",
    "            datas.append([student_index, item_index, score.item()])\n",
    "            item_index += 1\n",
    "        student_index += 1\n",
    "    \n",
    "    #Shuffle data index\n",
    "    #random_perm_index = np.arange(num_total_scores)\n",
    "    random_perm_index = np.random.permutation(num_total_scores)\n",
    "    train_index = random_perm_index[0 : int(num_total_scores * train_ratio)]\n",
    "    test_index = random_perm_index[int(num_total_scores * train_ratio): ]\n",
    "    \n",
    "    #Train data (with valid data)\n",
    "    for index in train_index:\n",
    "        line = datas[index]\n",
    "        student_index, item_index, score = line[0], line[1], line[2]\n",
    "        train_scores[student_index, item_index] = score\n",
    "        train_mask_scores[student_index, item_index] = 1\n",
    "        student_train_set.add(student_index)\n",
    "        item_train_set.add(item_index)\n",
    "    \n",
    "    #Test data\n",
    "    for index in test_index:\n",
    "        line = datas[index]\n",
    "        student_index, item_index, score = line[0], line[1], line[2]\n",
    "        test_scores[student_index, item_index] = score\n",
    "        test_mask_scores[student_index, item_index] = 1\n",
    "        student_test_set.add(student_index)\n",
    "        item_test_set.add(item_index)\n",
    "    \n",
    "    return train_scores, test_scores, train_mask_scores, test_mask_scores,\\\n",
    "           student_train_set, item_train_set, student_test_set, item_test_set, \\\n",
    "           num_students, num_items, num_total_scores\n",
    "\n",
    "    \n",
    "def shuffle_data(x, x_mask, y):\n",
    "    num_sample = len(x)\n",
    "    indices = list(range(num_sample))\n",
    "    random.shuffle(indices)\n",
    "    return x[indices], x_mask[indices], y[indices]\n",
    "\n",
    "def split_data(x, x_mask, y, ratio):\n",
    "    x_train = x[ : int(len(x) * ratio)]\n",
    "    x_train_mask = x_mask[ : int(len(x_mask) * ratio)]\n",
    "    y_train = y[ : int(len(y) * ratio)]\n",
    "    \n",
    "    x_test = x[int(len(x) * ratio) : ]\n",
    "    x_test_mask = x_mask[int(len(x_mask) * ratio) : ]\n",
    "    y_test = y[int(len(y) * ratio) : ]\n",
    "    \n",
    "    return x_train, x_train_mask, y_train, x_test, x_test_mask, y_test\n",
    "\n",
    "def sample_data(x, x_mask, y, k):\n",
    "    x, x_mask, y = shuffle_data(x, x_mask, y)\n",
    "    x_sample = x[ : k]\n",
    "    x_sample_mask = x_mask[ : k]\n",
    "    y_sample = y[ : k]\n",
    "    return x_sample, x_sample_mask, y_sample"
   ]
  },
  {
   "cell_type": "code",
   "execution_count": 52,
   "metadata": {},
   "outputs": [],
   "source": [
    "train_scores, test_scores, train_mask_scores, test_mask_scores,\\\n",
    "student_train_set, item_train_set, student_test_set, item_test_set, \\\n",
    "num_students, num_items, num_total_scores = load_data('./FrcSub/data.txt', 0.01)"
   ]
  },
  {
   "cell_type": "code",
   "execution_count": 30,
   "metadata": {
    "jupyter": {
     "source_hidden": true
    }
   },
   "outputs": [],
   "source": [
    "def print_P_N():\n",
    "    count1, count2, count3, count4 = 0, 0, 0, 0\n",
    "    for student in range(num_students):\n",
    "        for item in range(num_items):\n",
    "            if train_mask_scores[student, item].item() == 1 and train_scores[student, item].item() > 0.5:\n",
    "                count1 += 1\n",
    "            if train_mask_scores[student, item].item() == 1 and train_scores[student, item].item()<= 0.5:  \n",
    "                count2 += 1\n",
    "            if test_mask_scores[student, item].item() == 1 and test_scores[student, item].item() > 0.5:\n",
    "                count3 += 1\n",
    "            if test_mask_scores[student, item].item() == 1 and test_scores[student, item].item() <= 0.5:\n",
    "                count4 += 1\n",
    "    print(\"Positive in train: {:4.0f} | Negtive in train: {:4.0f} | Positive in test: {:4.0f} | Negtive in test: {:4.0f}\".format(count1, count2, count3, count4))\n",
    "    print(\"Total rating numbers:\", count1 + count2 + count3 + count4)\n",
    "def detect_have_test_data(x_mask_batch):\n",
    "    for student in range(x_mask_batch.shape[0]):\n",
    "        for item in range(x_mask_batch.shape[1]):\n",
    "            if x_mask_batch[student, item].item() == 1 and test_mask_scores[student, item].item() == 1: #train和test mask不能同时为1\n",
    "                print(\"Error!\")\n",
    "                return True\n",
    "    return False\n",
    "#flag = detect_have_test_data(train_mask_scores)\n",
    "#print_P_N()\n",
    "#print(num_students * num_items)"
   ]
  },
  {
   "cell_type": "markdown",
   "metadata": {},
   "source": [
    "## AutoEncoder\n",
    "encode item to anilities or knowledge statement\\\n",
    "decode them back to corresponding item for recommendation"
   ]
  },
  {
   "cell_type": "code",
   "execution_count": 63,
   "metadata": {},
   "outputs": [],
   "source": [
    "#item-based-AutoRec\n",
    "class AutoRec(nn.Module):\n",
    "    \n",
    "    def __init__(self, num_students, num_items):\n",
    "        super(AutoRec, self).__init__()\n",
    "        #self.args = args\n",
    "        self.num_students = num_students\n",
    "        self.num_items = num_items\n",
    "        self.hidden_units = 500\n",
    "        self.encoder = nn.Sequential(\n",
    "            nn.Linear(self.num_items, self.hidden_units),\n",
    "            nn.Sigmoid()\n",
    "        )\n",
    "\n",
    "        self.decoder = nn.Sequential(\n",
    "            nn.Linear(self.hidden_units, self.num_items),\n",
    "        )\n",
    "        \n",
    "    def forward(self, x):\n",
    "\n",
    "        encoded = self.encoder(x)\n",
    "        decoded = self.decoder(encoded)\n",
    "        return decoded  "
   ]
  },
  {
   "cell_type": "markdown",
   "metadata": {},
   "source": [
    "## meta-learning\n",
    "Let $\\theta$ be the parameters that represent weights of encoder and decoder.\n",
    "Given a task $\\tau_i$ based on dataset $\\mathcal{D}_{train}, \\mathcal{D}_{test}$, we can update the parameters of encoder and decoder:\n",
    "\\begin{gather}\n",
    "    \\theta^t_i \\gets \\theta - \\bigtriangledown_{\\theta}Loss_{\\tau_i}(E(D(r^i))_{\\theta})\n",
    "\\end{gather}\n",
    "where $\\alpha$ is learning rate of each task and the $Loss$ denotes the loss computed using the mini data batch of each task.\n",
    "To achieve promising generalization across a variety of tasks, our goal is to find optimal $\\theta_i$:\n",
    "\\begin{gather}\n",
    "    \\theta_i \\gets \\mathop{\\arg\\min}_{\\theta} \\sum Loss_{\\tau_i}(E(D(r^i))_{{\\theta}^t_i})\n",
    "\\end{gather}\n",
    "\n",
    "### here we choose the First-Order MAML, the algorithm is following:"
   ]
  },
  {
   "cell_type": "markdown",
   "metadata": {},
   "source": [
    "![](image1.png)"
   ]
  },
  {
   "cell_type": "code",
   "execution_count": 82,
   "metadata": {},
   "outputs": [],
   "source": [
    "class MAML(object):\n",
    "    def __init__(self, x, x_mask, y, model, optimizer):\n",
    "        \n",
    "        self.x_ = x\n",
    "        self.x_mask_ = x_mask\n",
    "        self.y_ = y\n",
    "        self.model_ = model\n",
    "        self.optimizer_ = optimizer\n",
    "        self.num_tasks = 20\n",
    "        self.num_samples = 20\n",
    "        self.task_epochs = 100\n",
    "        self.alpha = 1e-5\n",
    "        self.beta = 1e-5\n",
    "        self.lam = 1e-3\n",
    "        self.train_epochs = 100\n",
    "        self.batch_size = 100\n",
    "        \n",
    "        #绘制图像所需参数\n",
    "        self.trainLoss_ = []\n",
    "        self.trainRmse_ = []\n",
    "       \n",
    "    def train_task(self, x_task, x_task_mask, y_task):\n",
    "        decoded = self.model_(x_task)\n",
    "        loss, _ = self.get_loss_rmse(decoded, x_task, x_task_mask)\n",
    "        #loss = ((decoded - x_task) * x_task_mask).pow(2).sum()\n",
    "        self.model_.zero_grad()\n",
    "        loss.backward()\n",
    "        self.optimizer_.step()\n",
    "        \n",
    "    def learn_algorithm(self):\n",
    "        \n",
    "        print(\"Learning an algorithm by meta-learning....\")\n",
    "        \n",
    "        \n",
    "        #task_loader = Data.DataLoader(dataset=train_dataset, batch_size=self.num_tasks, shuffle=True)\n",
    "        \n",
    "        for e in range(self.task_epochs):        \n",
    "            \n",
    "            self.opti_params_ = []\n",
    "\n",
    "            #for train task i in batch of tasks\n",
    "            for i in range(self.num_tasks):\n",
    "                \n",
    "                \n",
    "                x_task, x_task_mask, y_task = \\\n",
    "                sample_data(self.x_, self.x_mask_, self.y_, \n",
    "                            self.num_samples)\n",
    "                \n",
    "                x_task, x_task_mask, y_task = \\\n",
    "                torch.tensor(x_task).type(torch.FloatTensor), \\\n",
    "                torch.tensor(x_task_mask).type(torch.FloatTensor), \\\n",
    "                torch.tensor(y_task).type(torch.FloatTensor)\n",
    "    \n",
    "                self.train_task(x_task, x_task_mask, y_task)\n",
    "                \n",
    "                opti_params = deepcopy(self.model_.state_dict())\n",
    "                \n",
    "                self.opti_params_.append(opti_params)\n",
    "            \n",
    "                \n",
    "            meta_grad_dict = deepcopy(self.model_.state_dict())\n",
    "            meta_grad_dict = {name: nn.init.constant_(\\\n",
    "            meta_grad_dict[name], 0.) for name in meta_grad_dict} \n",
    "            \n",
    "            \n",
    "            \n",
    "            for i in range(self.num_tasks):\n",
    "                \n",
    "                \n",
    "                x_task, x_task_mask, y_task = \\\n",
    "                sample_data(self.x_, self.x_mask_, self.y_, self.num_samples)\n",
    "                \n",
    "                \n",
    "                x_task, x_task_mask, y_task = \\\n",
    "                torch.tensor(x_task).type(torch.FloatTensor), \\\n",
    "                torch.tensor(x_task_mask).type(torch.FloatTensor), \\\n",
    "                torch.tensor(y_task).type(torch.FloatTensor)\n",
    "    \n",
    "                net_optim = AutoRec(num_students, num_items)\n",
    "                \n",
    "                net_optim.load_state_dict(self.opti_params_[i])\n",
    "                \n",
    "                decoded = net_optim(x_task)\n",
    "                \n",
    "                loss, _ = self.get_loss_rmse(decoded, x_task, x_task_mask)\n",
    "                \n",
    "                #loss = ((decoded - x_task) * x_task_mask).pow(2).sum()\n",
    "                \n",
    "                loss.backward()\n",
    "\n",
    "                \n",
    "                #update meta gradient bt net_optim_params's grad\n",
    "                net_optim_params_grad = {}\n",
    "                for name, params in zip(net_optim.state_dict(), \n",
    "                                        net_optim.parameters()):\n",
    "                    net_optim_params_grad[name] = params.grad.data\n",
    "                #print(net_optim_params_grad)\n",
    "                meta_grad_dict = {name: meta_grad_dict[name] + \n",
    "                                  net_optim_params_grad[name] / \n",
    "                                  self.num_samples for name in meta_grad_dict} \n",
    "                \n",
    "                #state_dict() has no grad\n",
    "                #meta_grad_dict = {name: meta_grad_dict[name] + net_optim_params[name].grad.data / self.num_samples for name in meta_grad_dict} \n",
    "            \n",
    "            \n",
    "            #update net params by meta gradient\n",
    "            net_params = self.model_.state_dict()\n",
    "            net_params_new = {name: net_params[name] + \n",
    "                              self.beta * meta_grad_dict[name] / \n",
    "                              self.num_samples for name in net_params} \n",
    "            self.model_.load_state_dict(net_params_new)\n",
    "          \n",
    "        \n",
    "    def get_loss_rmse(self, decoded, x_batch, x_batch_mask):\n",
    "        \n",
    "        loss_basic = 0\n",
    "        loss_regular = 0\n",
    "        \n",
    "        #basic loss\n",
    "        loss_basic += ((decoded - x_batch) * x_batch_mask).pow(2).sum()\n",
    "        rmse = loss_basic\n",
    "        \n",
    "        \n",
    "        #regular loss\n",
    "        for dict_params in self.optimizer_.param_groups:\n",
    "            for params in dict_params['params']:\n",
    "                # print(type(j.data), j.shape,j.data.dim())\n",
    "                # W.l2_normal, V.l2_normal\n",
    "                if params.data.dim() == 2:\n",
    "                    loss_regular += torch.t(params.data).pow(2).sum()\n",
    "        \n",
    "        #total loss\n",
    "        loss = loss_basic + loss_regular * self.lam * 0.5\n",
    "        return loss, rmse\n",
    "    \n",
    "    def get_test_error(self, decoded, x_batch, x_batch_mask):\n",
    "        return ((decoded - x_batch) * x_batch_mask).pow(2).sum()\n",
    "    \n",
    "    def train_batch(self):\n",
    "        Rmse = 0\n",
    "        Loss = 0\n",
    "        for step, (x_batch, x_batch_mask, y_batch) in enumerate(train_loader):\n",
    "            \n",
    "            x_batch = x_batch.type(torch.FloatTensor)#.cuda()\n",
    "            x_batch_mask = x_batch_mask.type(torch.FloatTensor)#.cuda()\n",
    "            \n",
    "            decoded = self.model_(x_batch) #x_batch.shape = [100, 20] = decoded\n",
    "            loss, rmse = self.get_loss_rmse(decoded=decoded, x_batch=x_batch, x_batch_mask=x_batch_mask)\n",
    "            self.optimizer_.zero_grad()\n",
    "            loss.backward()\n",
    "            self.optimizer_.step()\n",
    "            Loss += loss\n",
    "            Rmse += rmse\n",
    "\n",
    "        Rmse = np.sqrt(Rmse.detach().cpu().numpy() / (train_mask_scores == 1).sum())\n",
    "        \n",
    "        self.trainLoss_.append(Loss)\n",
    "        self.trainRmse_.append(Rmse)\n",
    "\n",
    "        #print('epoch ', epoch,  '| train Rmse : ', Rmse)\n",
    "    \n",
    "    def train(self):\n",
    "        bar = progressbar.ProgressBar()\n",
    "        for epoch in bar(range(self.train_epochs)):\n",
    "            self.train_batch()\n",
    "            \n",
    "    def predict(self):\n",
    "        test_scores_ = torch.from_numpy(test_scores).type(torch.FloatTensor)#.cuda()\n",
    "        test_mask_scores_ = torch.from_numpy(test_mask_scores).type(torch.FloatTensor)#.cuda()\n",
    "        \n",
    "        scores_predict = self.model_(test_scores_)\n",
    "        error = self.get_test_error(scores_predict, test_scores_, test_mask_scores_)\n",
    "        error = np.sqrt(error.detach().cpu().numpy() / (test_mask_scores == 1).sum())\n",
    "        return error\n",
    "\n",
    "    def draw_train_loss(self):\n",
    "        fig, ax = plt.subplots()\n",
    "        ax.set_title(\"Train Loss\")\n",
    "        ax.plot(self.trainLoss_, label='Train Loss')\n",
    "        ax.legend()\n",
    "        \n",
    "    def draw_train_rmse(self):\n",
    "        fig, ax = plt.subplots()\n",
    "        ax.set_title(\"Train Rmse\")\n",
    "        ax.plot(self.trainRmse_, label='Train Rmse')\n",
    "        ax.legend()\n",
    "        \n",
    "    def classify(self, pred_value):\n",
    "        if pred_value <= 0.5:\n",
    "            pred_value = 0\n",
    "        else:\n",
    "            pred_value = 1\n",
    "        return pred_value\n",
    "    \n",
    "\n",
    "    \n",
    "    def get_scores(self, test_scores, test_mask_scores):\n",
    "        \n",
    "        test_scores_ = torch.from_numpy(test_scores).type(torch.FloatTensor)#.cuda()\n",
    "        predict_scores_ = self.model_(test_scores_).detach().numpy()\n",
    "        \n",
    "        \n",
    "        pred_scores = predict_scores_[test_mask_scores == 1]\n",
    "        true_scores = test_scores_[test_mask_scores == 1]\n",
    "        \n",
    "\n",
    "        \n",
    "        true_scores[true_scores > 0.5] = 1\n",
    "        true_scores[true_scores <= 0.5] = 0\n",
    "        \n",
    "        fpr, tpr, thresholds = metrics.roc_curve(true_scores, pred_scores)\n",
    "        \n",
    "        pred_scores[pred_scores > 0.5] = 1\n",
    "        pred_scores[pred_scores <= 0.5] = 0\n",
    "\n",
    "        accuracy = accuracy_score(true_scores, pred_scores)\n",
    "        precision = precision_score(true_scores, pred_scores)\n",
    "        recall = recall_score(true_scores, pred_scores)\n",
    "        f1 = f1_score(true_scores, pred_scores)\n",
    "        roc_auc = roc_auc_score(true_scores, pred_scores)\n",
    "        \n",
    "        return accuracy, precision, recall, f1, fpr, tpr, thresholds, roc_auc\n",
    "    \n",
    "    def show_roc_curve(self, fpr, tpr):\n",
    "        plt.figure()\n",
    "        lw = 2\n",
    "        plt.plot(fpr[2], tpr[2], color='darkorange',\n",
    "                 lw=lw, label='ROC curve (area = %0.2f)' % roc_auc[2])\n",
    "        plt.plot([0, 1], [0, 1], color='navy', lw=lw, linestyle='--')\n",
    "        plt.xlim([-0.01, 1.0])\n",
    "        plt.ylim([-0.01, 1.05])\n",
    "        plt.xlabel('False Positive Rate')\n",
    "        plt.ylabel('True Positive Rate')\n",
    "        plt.title('Receiver operating characteristic example')\n",
    "        plt.legend(loc=\"lower right\")\n",
    "        plt.show()"
   ]
  },
  {
   "cell_type": "code",
   "execution_count": 67,
   "metadata": {},
   "outputs": [],
   "source": [
    "def show_roc_curve(fpr_, tpr_, roc_auc_):\n",
    "    fig, ax = plt.subplots()\n",
    "    ax.set_title('Receiver Operating Characteristic')\n",
    "    ax.plot(fpr_[0], tpr_[0], alpha=0.7, color='darkorange', lw=2, label='ROC curve Auto(area = %0.3f)' % roc_auc_[0])\n",
    "    ax.plot(fpr_[1], tpr_[1], alpha=0.7, color='r', lw=2, label='ROC curve meta-Auto(area = %0.3f)' % roc_auc_[1])\n",
    "    ax.plot([0, 1], [0, 1], color='navy', lw=2, linestyle='--')\n",
    "    ax.set_xlim([-0.01, 1.0])\n",
    "    ax.set_ylim([-0.01, 1.05])\n",
    "    ax.set_xlabel('False Positive Rate')\n",
    "    ax.set_ylabel('True Positive Rate')\n",
    "    ax.legend(loc='lower right')"
   ]
  },
  {
   "cell_type": "code",
   "execution_count": 68,
   "metadata": {},
   "outputs": [],
   "source": [
    "def show_rmse(rmse_):\n",
    "    fig, ax = plt.subplots()\n",
    "    ax.set_title('Root Mean Square Error')\n",
    "    ax.plot(rmse_[0], alpha=0.7, color='darkorange', lw=2, label='Train by Auto(start rmse = %0.3f)' % rmse_[0][0])\n",
    "    ax.plot(rmse_[1], alpha=0.7, color='r', lw=2, label='Train by meta-Auto(start rmse = %0.3f)' % rmse_[1][0])\n",
    "    ax.set_xlabel('Epoch')\n",
    "    ax.set_ylabel('Rmse')\n",
    "    ax.legend()"
   ]
  },
  {
   "cell_type": "code",
   "execution_count": 75,
   "metadata": {},
   "outputs": [],
   "source": [
    "batch_size = 100\n",
    "model1 = AutoRec(num_students, num_items)\n",
    "optimizer1 = torch.optim.Adam(model1.parameters(), lr = 1e-3, weight_decay=1e-5)\n",
    "\n",
    "model2 = deepcopy(model1)\n",
    "optimizer2 = torch.optim.Adam(model2.parameters(), lr = 1e-4, weight_decay=1e-6)\n",
    "\n",
    "num_batch = int(math.ceil(num_students / batch_size))\n",
    "train_dataset = Data.TensorDataset(torch.from_numpy(train_scores),torch.from_numpy(train_mask_scores),torch.from_numpy(train_scores))\n",
    "train_loader = Data.DataLoader(dataset=train_dataset, batch_size=batch_size, shuffle=False)"
   ]
  },
  {
   "cell_type": "code",
   "execution_count": 76,
   "metadata": {},
   "outputs": [],
   "source": [
    "meta1 = MAML(train_scores, train_mask_scores, train_scores, model1, optimizer1)\n",
    "meta2 = MAML(train_scores, train_mask_scores, train_scores, model2, optimizer2)"
   ]
  },
  {
   "cell_type": "code",
   "execution_count": 77,
   "metadata": {},
   "outputs": [
    {
     "name": "stdout",
     "output_type": "stream",
     "text": [
      "Recommendation model scores before training: \n",
      "------------------------Autoencoder-----------------------------\n",
      "Accuracy: 0.460756 | precision: 0.393443 | recall: 0.016928 | F1: 0.032460 | ROC_AUC_score: 0.493490\n",
      "----------------------meta-Autoencoder--------------------------\n",
      "Accuracy: 0.460756 | precision: 0.393443 | recall: 0.016928 | F1: 0.032460 | ROC_AUC_score: 0.493490\n"
     ]
    },
    {
     "data": {
      "image/png": "[encoded data removed]",
      "text/plain": [
       "<Figure size 432x288 with 1 Axes>"
      ]
     },
     "metadata": {
      "needs_background": "light"
     },
     "output_type": "display_data"
    }
   ],
   "source": [
    "#未训练之前\n",
    "tpr_, fpr_, roc_auc_ = [], [], []\n",
    "accuracy, precision, recall, f1, fpr, tpr, thresholds, roc_auc = meta1.get_scores(test_scores, test_mask_scores)\n",
    "tpr_.append(tpr)\n",
    "fpr_.append(fpr)\n",
    "roc_auc_.append(roc_auc)\n",
    "print(\"Recommendation model scores before training: \")\n",
    "print(\"------------------------Autoencoder-----------------------------\")\n",
    "print(\"Accuracy: {:4.6f} | precision: {:4.6f} | recall: {:4.6f} | F1: {:4.6f} | ROC_AUC_score: {:4.6f}\".format(accuracy, precision, recall, f1, roc_auc))\n",
    "\n",
    "accuracy, precision, recall, f1, fpr, tpr, thresholds, roc_auc = meta2.get_scores(test_scores, test_mask_scores)\n",
    "tpr_.append(tpr)\n",
    "fpr_.append(fpr)\n",
    "roc_auc_.append(roc_auc)\n",
    "print(\"----------------------meta-Autoencoder--------------------------\")\n",
    "print(\"Accuracy: {:4.6f} | precision: {:4.6f} | recall: {:4.6f} | F1: {:4.6f} | ROC_AUC_score: {:4.6f}\".format(accuracy, precision, recall, f1, roc_auc))\n",
    "\n",
    "show_roc_curve(fpr_, tpr_, roc_auc_)"
   ]
  },
  {
   "cell_type": "code",
   "execution_count": 78,
   "metadata": {},
   "outputs": [
    {
     "name": "stderr",
     "output_type": "stream",
     "text": [
      "100% |########################################################################|\n"
     ]
    }
   ],
   "source": [
    "meta1.train()"
   ]
  },
  {
   "cell_type": "code",
   "execution_count": 79,
   "metadata": {},
   "outputs": [
    {
     "name": "stdout",
     "output_type": "stream",
     "text": [
      "Learning an algorithm by meta-learning....\n"
     ]
    },
    {
     "name": "stderr",
     "output_type": "stream",
     "text": [
      "100% |########################################################################|\n"
     ]
    }
   ],
   "source": [
    "meta2.train_epochs=1000\n",
    "meta2.learn_algorithm()\n",
    "meta2.train()"
   ]
  },
  {
   "cell_type": "code",
   "execution_count": 80,
   "metadata": {},
   "outputs": [
    {
     "name": "stdout",
     "output_type": "stream",
     "text": [
      "Recommendation model scores after training: \n",
      "------------------------Autoencoder-----------------------------\n",
      "Accuracy: 0.874117 | precision: 0.915628 | recall: 0.842003 | F1: 0.877274 | ROC_AUC_score: 0.876485\n",
      "----------------------meta-Autoencoder--------------------------\n",
      "Accuracy: 0.893715 | precision: 0.927215 | recall: 0.869335 | F1: 0.897343 | ROC_AUC_score: 0.895513\n"
     ]
    },
    {
     "data": {
      "image/png": "[encoded data removed]",
      "text/plain": [
       "<Figure size 432x288 with 1 Axes>"
      ]
     },
     "metadata": {
      "needs_background": "light"
     },
     "output_type": "display_data"
    }
   ],
   "source": [
    "tpr_, fpr_, roc_auc_ = [], [], []\n",
    "accuracy, precision, recall, f1, fpr, tpr, thresholds, roc_auc = meta1.get_scores(test_scores, test_mask_scores)\n",
    "tpr_.append(tpr)\n",
    "fpr_.append(fpr)\n",
    "roc_auc_.append(roc_auc)\n",
    "print(\"Recommendation model scores after training: \")\n",
    "print(\"------------------------Autoencoder-----------------------------\")\n",
    "print(\"Accuracy: {:4.6f} | precision: {:4.6f} | recall: {:4.6f} | F1: {:4.6f} | ROC_AUC_score: {:4.6f}\".format(accuracy, precision, recall, f1, roc_auc))\n",
    "\n",
    "accuracy, precision, recall, f1, fpr, tpr, thresholds, roc_auc = meta2.get_scores(test_scores, test_mask_scores)\n",
    "tpr_.append(tpr)\n",
    "fpr_.append(fpr)\n",
    "roc_auc_.append(roc_auc)\n",
    "print(\"----------------------meta-Autoencoder--------------------------\")\n",
    "print(\"Accuracy: {:4.6f} | precision: {:4.6f} | recall: {:4.6f} | F1: {:4.6f} | ROC_AUC_score: {:4.6f}\".format(accuracy, precision, recall, f1, roc_auc))\n",
    "\n",
    "show_roc_curve(fpr_, tpr_, roc_auc_)"
   ]
  },
  {
   "cell_type": "code",
   "execution_count": 81,
   "metadata": {},
   "outputs": [
    {
     "data": {
      "image/png": "[encoded data removed]",
      "text/plain": [
       "<Figure size 432x288 with 1 Axes>"
      ]
     },
     "metadata": {
      "needs_background": "light"
     },
     "output_type": "display_data"
    }
   ],
   "source": [
    "rmse_ = []\n",
    "rmse_.append(meta1.trainRmse_[:20])\n",
    "rmse_.append(meta2.trainRmse_[:20])\n",
    "show_rmse(rmse_)"
   ]
  },
  {
   "cell_type": "markdown",
   "metadata": {},
   "source": [
    "# From the demo we can see:"
   ]
  },
  {
   "cell_type": "markdown",
   "metadata": {},
   "source": [
    "## With the meta-learning (red line) enhancement, the error Rsme is already very small at the initial stage of training which means it started faster."
   ]
  },
  {
   "cell_type": "markdown",
   "metadata": {},
   "source": [
    "## If training multiple times with enough data, the final prediction results (ROC red orange curve) of the two methods are very close."
   ]
  }
 ],
 "metadata": {
  "kernelspec": {
   "display_name": "Python 3",
   "language": "python",
   "name": "python3"
  },
  "language_info": {
   "codemirror_mode": {
    "name": "ipython",
    "version": 3
   },
   "file_extension": ".py",
   "mimetype": "text/x-python",
   "name": "python",
   "nbconvert_exporter": "python",
   "pygments_lexer": "ipython3",
   "version": "3.7.6"
  }
 },
 "nbformat": 4,
 "nbformat_minor": 4
}
